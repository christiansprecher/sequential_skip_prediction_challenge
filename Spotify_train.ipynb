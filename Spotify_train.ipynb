{
 "cells": [
  {
   "cell_type": "code",
   "execution_count": 28,
   "metadata": {},
   "outputs": [],
   "source": [
    "import pandas as pd\n",
    "import numpy as np\n",
    "from matplotlib import pyplot as plt\n",
    "from tqdm import tqdm\n",
    "\n",
    "%matplotlib inline"
   ]
  },
  {
   "cell_type": "code",
   "execution_count": 7,
   "metadata": {},
   "outputs": [],
   "source": [
    "song_path = \"./data_mini/track_features/tf_mini.csv\"\n",
    "playlist_path = \"./data_mini/training_set/log_mini.csv\""
   ]
  },
  {
   "cell_type": "code",
   "execution_count": 8,
   "metadata": {},
   "outputs": [],
   "source": [
    "pd_playlist = pd.read_csv(playlist_path)"
   ]
  },
  {
   "cell_type": "code",
   "execution_count": 9,
   "metadata": {},
   "outputs": [],
   "source": [
    "pd_song = pd.read_csv(song_path)"
   ]
  },
  {
   "cell_type": "code",
   "execution_count": 10,
   "metadata": {},
   "outputs": [],
   "source": [
    "pd_playlist_copy = pd_playlist.copy()\n",
    "pd_playlist_copy = pd_playlist_copy.rename(columns={\"track_id_clean\": \"track_id\"})\n",
    "#pd_merged = pd.merge_ordered(pd_playlist_copy, pd_song, on=\"track_id\")"
   ]
  },
  {
   "cell_type": "code",
   "execution_count": 11,
   "metadata": {},
   "outputs": [],
   "source": [
    "def mergeLeftInOrder(x, y, on=None):\n",
    "    x = x.copy()\n",
    "    x[\"Order\"] = np.arange(len(x))\n",
    "    z = x.merge(y, how='left', on=on).set_index(\"Order\").ix[np.arange(len(x)), :]\n",
    "    return z.reset_index(drop=True)"
   ]
  },
  {
   "cell_type": "code",
   "execution_count": 12,
   "metadata": {},
   "outputs": [
    {
     "name": "stderr",
     "output_type": "stream",
     "text": [
      "/Users/ken/.pyenv/versions/anaconda3-5.0.0/lib/python3.6/site-packages/ipykernel_launcher.py:4: DeprecationWarning: \n",
      ".ix is deprecated. Please use\n",
      ".loc for label based indexing or\n",
      ".iloc for positional indexing\n",
      "\n",
      "See the documentation here:\n",
      "http://pandas.pydata.org/pandas-docs/stable/indexing.html#ix-indexer-is-deprecated\n",
      "  after removing the cwd from sys.path.\n"
     ]
    }
   ],
   "source": [
    "tmp = mergeLeftInOrder(pd_playlist_copy, pd_song, on=\"track_id\")"
   ]
  },
  {
   "cell_type": "code",
   "execution_count": 13,
   "metadata": {},
   "outputs": [
    {
     "data": {
      "text/html": [
       "<div>\n",
       "<style>\n",
       "    .dataframe thead tr:only-child th {\n",
       "        text-align: right;\n",
       "    }\n",
       "\n",
       "    .dataframe thead th {\n",
       "        text-align: left;\n",
       "    }\n",
       "\n",
       "    .dataframe tbody tr th {\n",
       "        vertical-align: top;\n",
       "    }\n",
       "</style>\n",
       "<table border=\"1\" class=\"dataframe\">\n",
       "  <thead>\n",
       "    <tr style=\"text-align: right;\">\n",
       "      <th></th>\n",
       "      <th>session_id</th>\n",
       "      <th>session_position</th>\n",
       "      <th>session_length</th>\n",
       "      <th>track_id</th>\n",
       "      <th>skip_1</th>\n",
       "      <th>skip_2</th>\n",
       "      <th>skip_3</th>\n",
       "      <th>not_skipped</th>\n",
       "      <th>context_switch</th>\n",
       "      <th>no_pause_before_play</th>\n",
       "      <th>...</th>\n",
       "      <th>time_signature</th>\n",
       "      <th>valence</th>\n",
       "      <th>acoustic_vector_0</th>\n",
       "      <th>acoustic_vector_1</th>\n",
       "      <th>acoustic_vector_2</th>\n",
       "      <th>acoustic_vector_3</th>\n",
       "      <th>acoustic_vector_4</th>\n",
       "      <th>acoustic_vector_5</th>\n",
       "      <th>acoustic_vector_6</th>\n",
       "      <th>acoustic_vector_7</th>\n",
       "    </tr>\n",
       "  </thead>\n",
       "  <tbody>\n",
       "    <tr>\n",
       "      <th>0</th>\n",
       "      <td>0_00006f66-33e5-4de7-a324-2d18e439fc1e</td>\n",
       "      <td>1</td>\n",
       "      <td>20</td>\n",
       "      <td>t_0479f24c-27d2-46d6-a00c-7ec928f2b539</td>\n",
       "      <td>False</td>\n",
       "      <td>False</td>\n",
       "      <td>False</td>\n",
       "      <td>True</td>\n",
       "      <td>0</td>\n",
       "      <td>0</td>\n",
       "      <td>...</td>\n",
       "      <td>4</td>\n",
       "      <td>0.152255</td>\n",
       "      <td>-0.815775</td>\n",
       "      <td>0.386409</td>\n",
       "      <td>0.230160</td>\n",
       "      <td>0.028028</td>\n",
       "      <td>-0.333373</td>\n",
       "      <td>0.015452</td>\n",
       "      <td>-0.353590</td>\n",
       "      <td>0.205826</td>\n",
       "    </tr>\n",
       "    <tr>\n",
       "      <th>1</th>\n",
       "      <td>0_00006f66-33e5-4de7-a324-2d18e439fc1e</td>\n",
       "      <td>2</td>\n",
       "      <td>20</td>\n",
       "      <td>t_9099cd7b-c238-47b7-9381-f23f2c1d1043</td>\n",
       "      <td>False</td>\n",
       "      <td>False</td>\n",
       "      <td>False</td>\n",
       "      <td>True</td>\n",
       "      <td>0</td>\n",
       "      <td>1</td>\n",
       "      <td>...</td>\n",
       "      <td>4</td>\n",
       "      <td>0.337152</td>\n",
       "      <td>-0.713646</td>\n",
       "      <td>0.363718</td>\n",
       "      <td>0.310315</td>\n",
       "      <td>-0.042222</td>\n",
       "      <td>-0.383164</td>\n",
       "      <td>0.066357</td>\n",
       "      <td>-0.365308</td>\n",
       "      <td>0.157920</td>\n",
       "    </tr>\n",
       "    <tr>\n",
       "      <th>2</th>\n",
       "      <td>0_00006f66-33e5-4de7-a324-2d18e439fc1e</td>\n",
       "      <td>3</td>\n",
       "      <td>20</td>\n",
       "      <td>t_fc5df5ba-5396-49a7-8b29-35d0d28249e0</td>\n",
       "      <td>False</td>\n",
       "      <td>False</td>\n",
       "      <td>False</td>\n",
       "      <td>True</td>\n",
       "      <td>0</td>\n",
       "      <td>1</td>\n",
       "      <td>...</td>\n",
       "      <td>4</td>\n",
       "      <td>0.373862</td>\n",
       "      <td>-0.742541</td>\n",
       "      <td>0.375599</td>\n",
       "      <td>0.252660</td>\n",
       "      <td>-0.049007</td>\n",
       "      <td>-0.299745</td>\n",
       "      <td>0.063341</td>\n",
       "      <td>-0.486689</td>\n",
       "      <td>0.181604</td>\n",
       "    </tr>\n",
       "    <tr>\n",
       "      <th>3</th>\n",
       "      <td>0_00006f66-33e5-4de7-a324-2d18e439fc1e</td>\n",
       "      <td>4</td>\n",
       "      <td>20</td>\n",
       "      <td>t_23cff8d6-d874-4b20-83dc-94e450e8aa20</td>\n",
       "      <td>False</td>\n",
       "      <td>False</td>\n",
       "      <td>False</td>\n",
       "      <td>True</td>\n",
       "      <td>0</td>\n",
       "      <td>1</td>\n",
       "      <td>...</td>\n",
       "      <td>4</td>\n",
       "      <td>0.649420</td>\n",
       "      <td>-0.705116</td>\n",
       "      <td>0.317562</td>\n",
       "      <td>0.289141</td>\n",
       "      <td>-0.038920</td>\n",
       "      <td>-0.393358</td>\n",
       "      <td>0.092719</td>\n",
       "      <td>-0.364418</td>\n",
       "      <td>0.285603</td>\n",
       "    </tr>\n",
       "    <tr>\n",
       "      <th>4</th>\n",
       "      <td>0_00006f66-33e5-4de7-a324-2d18e439fc1e</td>\n",
       "      <td>5</td>\n",
       "      <td>20</td>\n",
       "      <td>t_64f3743c-f624-46bb-a579-0f3f9a07a123</td>\n",
       "      <td>False</td>\n",
       "      <td>False</td>\n",
       "      <td>False</td>\n",
       "      <td>True</td>\n",
       "      <td>0</td>\n",
       "      <td>1</td>\n",
       "      <td>...</td>\n",
       "      <td>4</td>\n",
       "      <td>0.652921</td>\n",
       "      <td>-0.868489</td>\n",
       "      <td>0.331280</td>\n",
       "      <td>0.210478</td>\n",
       "      <td>0.084740</td>\n",
       "      <td>-0.333287</td>\n",
       "      <td>-0.025706</td>\n",
       "      <td>-0.510350</td>\n",
       "      <td>0.182315</td>\n",
       "    </tr>\n",
       "  </tbody>\n",
       "</table>\n",
       "<p>5 rows × 50 columns</p>\n",
       "</div>"
      ],
      "text/plain": [
       "                               session_id  session_position  session_length  \\\n",
       "0  0_00006f66-33e5-4de7-a324-2d18e439fc1e                 1              20   \n",
       "1  0_00006f66-33e5-4de7-a324-2d18e439fc1e                 2              20   \n",
       "2  0_00006f66-33e5-4de7-a324-2d18e439fc1e                 3              20   \n",
       "3  0_00006f66-33e5-4de7-a324-2d18e439fc1e                 4              20   \n",
       "4  0_00006f66-33e5-4de7-a324-2d18e439fc1e                 5              20   \n",
       "\n",
       "                                 track_id  skip_1  skip_2  skip_3  \\\n",
       "0  t_0479f24c-27d2-46d6-a00c-7ec928f2b539   False   False   False   \n",
       "1  t_9099cd7b-c238-47b7-9381-f23f2c1d1043   False   False   False   \n",
       "2  t_fc5df5ba-5396-49a7-8b29-35d0d28249e0   False   False   False   \n",
       "3  t_23cff8d6-d874-4b20-83dc-94e450e8aa20   False   False   False   \n",
       "4  t_64f3743c-f624-46bb-a579-0f3f9a07a123   False   False   False   \n",
       "\n",
       "   not_skipped  context_switch  no_pause_before_play        ...         \\\n",
       "0         True               0                     0        ...          \n",
       "1         True               0                     1        ...          \n",
       "2         True               0                     1        ...          \n",
       "3         True               0                     1        ...          \n",
       "4         True               0                     1        ...          \n",
       "\n",
       "   time_signature   valence  acoustic_vector_0  acoustic_vector_1  \\\n",
       "0               4  0.152255          -0.815775           0.386409   \n",
       "1               4  0.337152          -0.713646           0.363718   \n",
       "2               4  0.373862          -0.742541           0.375599   \n",
       "3               4  0.649420          -0.705116           0.317562   \n",
       "4               4  0.652921          -0.868489           0.331280   \n",
       "\n",
       "   acoustic_vector_2  acoustic_vector_3 acoustic_vector_4  acoustic_vector_5  \\\n",
       "0           0.230160           0.028028         -0.333373           0.015452   \n",
       "1           0.310315          -0.042222         -0.383164           0.066357   \n",
       "2           0.252660          -0.049007         -0.299745           0.063341   \n",
       "3           0.289141          -0.038920         -0.393358           0.092719   \n",
       "4           0.210478           0.084740         -0.333287          -0.025706   \n",
       "\n",
       "  acoustic_vector_6 acoustic_vector_7  \n",
       "0         -0.353590          0.205826  \n",
       "1         -0.365308          0.157920  \n",
       "2         -0.486689          0.181604  \n",
       "3         -0.364418          0.285603  \n",
       "4         -0.510350          0.182315  \n",
       "\n",
       "[5 rows x 50 columns]"
      ]
     },
     "execution_count": 13,
     "metadata": {},
     "output_type": "execute_result"
    }
   ],
   "source": [
    "tmp.head()"
   ]
  },
  {
   "cell_type": "code",
   "execution_count": null,
   "metadata": {},
   "outputs": [],
   "source": []
  },
  {
   "cell_type": "code",
   "execution_count": 20,
   "metadata": {},
   "outputs": [],
   "source": [
    "track = tmp.drop(['session_position', 'session_length', \n",
    "       'skip_1', 'skip_2', 'skip_3', 'not_skipped', 'context_switch',\n",
    "       'no_pause_before_play', 'short_pause_before_play',\n",
    "       'long_pause_before_play', 'hist_user_behavior_n_seekfwd',\n",
    "       'hist_user_behavior_n_seekback', 'hist_user_behavior_is_shuffle',\n",
    "       'hour_of_day', 'date', 'premium', 'context_type',\n",
    "       'hist_user_behavior_reason_start', 'hist_user_behavior_reason_end'], axis=1)"
   ]
  },
  {
   "cell_type": "code",
   "execution_count": 29,
   "metadata": {},
   "outputs": [
    {
     "name": "stderr",
     "output_type": "stream",
     "text": [
      "100%|██████████| 10000/10000 [02:17<00:00, 72.69it/s]\n"
     ]
    }
   ],
   "source": [
    "track_grouped = track.groupby(\"session_id\")\n",
    "sessions = []\n",
    "for item in tqdm(pd_playlist[\"session_id\"].drop_duplicates()):\n",
    "    chk = track_grouped.get_group(item)\n",
    "    L_s = len(chk)\n",
    "    for i in range(20-L_s):\n",
    "        s = pd.Series([0]*31, index=chk.columns, name='zero')\n",
    "        chk = chk.append(s)\n",
    "    sessions.append(chk.drop([\"session_id\", \"track_id\"], axis=1))"
   ]
  },
  {
   "cell_type": "code",
   "execution_count": 53,
   "metadata": {},
   "outputs": [
    {
     "name": "stderr",
     "output_type": "stream",
     "text": [
      "100%|██████████| 10000/10000 [00:06<00:00, 1628.11it/s]\n"
     ]
    }
   ],
   "source": [
    "k_y = tmp[[\"session_id\", \"skip_2\"]]\n",
    "ky_grouped = k_y.groupby(\"session_id\")\n",
    "kys = []\n",
    "for item in tqdm(k_y[\"session_id\"].drop_duplicates()):\n",
    "    chk = ky_grouped.get_group(item)\n",
    "    L_s = len(chk)\n",
    "    L_sh = int(L_s/2)\n",
    "    ky_tmp = np.array(chk[\"skip_2\"])*2-1\n",
    "    ky_tmp = np.tile(ky_tmp.reshape((-1,1)), (1,2))\n",
    "    ky_tmp[:L_sh,1] = 0\n",
    "    ky_tmp[L_sh:,0] = 0\n",
    "    kys.append(np.pad(ky_tmp, [(0,20-L_s),(0,0)], 'constant')) "
   ]
  },
  {
   "cell_type": "code",
   "execution_count": 55,
   "metadata": {},
   "outputs": [
    {
     "data": {
      "text/plain": [
       "array([[-1,  0],\n",
       "       [-1,  0],\n",
       "       [-1,  0],\n",
       "       [-1,  0],\n",
       "       [-1,  0],\n",
       "       [-1,  0],\n",
       "       [ 1,  0],\n",
       "       [ 1,  0],\n",
       "       [ 1,  0],\n",
       "       [ 1,  0],\n",
       "       [ 0,  1],\n",
       "       [ 0,  1],\n",
       "       [ 0,  1],\n",
       "       [ 0, -1],\n",
       "       [ 0,  1],\n",
       "       [ 0,  1],\n",
       "       [ 0,  1],\n",
       "       [ 0,  1],\n",
       "       [ 0,  1],\n",
       "       [ 0,  1]])"
      ]
     },
     "execution_count": 55,
     "metadata": {},
     "output_type": "execute_result"
    }
   ],
   "source": [
    "kys[0]"
   ]
  },
  {
   "cell_type": "code",
   "execution_count": null,
   "metadata": {},
   "outputs": [],
   "source": [
    "# TODO\n",
    "# adjust the data file paths to the current (github) directory\n",
    "# make the above more (time-)efficient code\n",
    "#   maybe making a method or class would be better? \n",
    "# each element in \"sessions\" must be ndarray\n",
    "# some of the columns in each element in \"sessions\" should be one-hot encoded (ex. published year)\n",
    "# write a script for saving these outputs"
   ]
  },
  {
   "cell_type": "code",
   "execution_count": null,
   "metadata": {},
   "outputs": [],
   "source": []
  },
  {
   "cell_type": "code",
   "execution_count": null,
   "metadata": {},
   "outputs": [],
   "source": []
  },
  {
   "cell_type": "code",
   "execution_count": null,
   "metadata": {},
   "outputs": [],
   "source": []
  },
  {
   "cell_type": "code",
   "execution_count": null,
   "metadata": {},
   "outputs": [],
   "source": []
  },
  {
   "cell_type": "code",
   "execution_count": null,
   "metadata": {},
   "outputs": [],
   "source": []
  },
  {
   "cell_type": "code",
   "execution_count": null,
   "metadata": {},
   "outputs": [],
   "source": []
  },
  {
   "cell_type": "code",
   "execution_count": 26,
   "metadata": {},
   "outputs": [],
   "source": [
    "#list(pd_playlist.groupby(\"session_id\").groups.keys())\n",
    "pd_playlist_grouped = pd_playlist.groupby(\"session_id\")\n",
    "ana_1 = []\n",
    "for item in pd_playlist[\"session_id\"].drop_duplicates():\n",
    "    chk = pd_playlist_grouped.get_group(item)\n",
    "    L_s = int(chk.iloc[0, 2]/2)\n",
    "    h_1 = sum(chk[\"skip_2\"].iloc[:L_s])\n",
    "    h_2 = sum(chk[\"skip_2\"].iloc[L_s:])\n",
    "    ana_1.append([h_1, h_2])"
   ]
  },
  {
   "cell_type": "code",
   "execution_count": 32,
   "metadata": {},
   "outputs": [
    {
     "data": {
      "text/plain": [
       "<matplotlib.colorbar.Colorbar at 0x10a380dd8>"
      ]
     },
     "execution_count": 32,
     "metadata": {},
     "output_type": "execute_result"
    },
    {
     "data": {
      "image/png": "[encoded data removed]",
      "text/plain": [
       "<matplotlib.figure.Figure at 0x107b97be0>"
      ]
     },
     "metadata": {},
     "output_type": "display_data"
    }
   ],
   "source": [
    "ana_1 = np.array(ana_1)\n",
    "\n",
    "fig = plt.figure()\n",
    "ax = fig.add_subplot(111)\n",
    "\n",
    "H = ax.hist2d(ana_1[:,0], ana_1[:,1], bins=10)\n",
    "ax.set_title('1st graph')\n",
    "ax.set_xlabel('x')\n",
    "ax.set_ylabel('y')\n",
    "fig.colorbar(H[3],ax=ax)"
   ]
  },
  {
   "cell_type": "code",
   "execution_count": null,
   "metadata": {},
   "outputs": [],
   "source": []
  },
  {
   "cell_type": "code",
   "execution_count": null,
   "metadata": {},
   "outputs": [],
   "source": []
  },
  {
   "cell_type": "code",
   "execution_count": null,
   "metadata": {},
   "outputs": [],
   "source": []
  },
  {
   "cell_type": "code",
   "execution_count": null,
   "metadata": {},
   "outputs": [],
   "source": []
  },
  {
   "cell_type": "code",
   "execution_count": null,
   "metadata": {},
   "outputs": [],
   "source": []
  },
  {
   "cell_type": "code",
   "execution_count": null,
   "metadata": {},
   "outputs": [],
   "source": []
  },
  {
   "cell_type": "code",
   "execution_count": null,
   "metadata": {},
   "outputs": [],
   "source": []
  },
  {
   "cell_type": "code",
   "execution_count": null,
   "metadata": {},
   "outputs": [],
   "source": []
  },
  {
   "cell_type": "code",
   "execution_count": null,
   "metadata": {},
   "outputs": [],
   "source": []
  },
  {
   "cell_type": "code",
   "execution_count": null,
   "metadata": {},
   "outputs": [],
   "source": []
  },
  {
   "cell_type": "code",
   "execution_count": null,
   "metadata": {},
   "outputs": [],
   "source": []
  },
  {
   "cell_type": "code",
   "execution_count": null,
   "metadata": {},
   "outputs": [],
   "source": []
  },
  {
   "cell_type": "code",
   "execution_count": null,
   "metadata": {},
   "outputs": [],
   "source": []
  },
  {
   "cell_type": "code",
   "execution_count": null,
   "metadata": {},
   "outputs": [],
   "source": []
  },
  {
   "cell_type": "code",
   "execution_count": null,
   "metadata": {},
   "outputs": [],
   "source": []
  },
  {
   "cell_type": "code",
   "execution_count": null,
   "metadata": {},
   "outputs": [],
   "source": []
  },
  {
   "cell_type": "code",
   "execution_count": null,
   "metadata": {},
   "outputs": [],
   "source": []
  },
  {
   "cell_type": "code",
   "execution_count": null,
   "metadata": {},
   "outputs": [],
   "source": []
  },
  {
   "cell_type": "code",
   "execution_count": null,
   "metadata": {},
   "outputs": [],
   "source": []
  },
  {
   "cell_type": "code",
   "execution_count": null,
   "metadata": {},
   "outputs": [],
   "source": []
  },
  {
   "cell_type": "code",
   "execution_count": null,
   "metadata": {},
   "outputs": [],
   "source": []
  }
 ],
 "metadata": {
  "kernelspec": {
   "display_name": "Python 3",
   "language": "python",
   "name": "python3"
  },
  "language_info": {
   "codemirror_mode": {
    "name": "ipython",
    "version": 3
   },
   "file_extension": ".py",
   "mimetype": "text/x-python",
   "name": "python",
   "nbconvert_exporter": "python",
   "pygments_lexer": "ipython3",
   "version": "3.6.2"
  }
 },
 "nbformat": 4,
 "nbformat_minor": 2
}
