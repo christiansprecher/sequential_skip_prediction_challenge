{
 "cells": [
  {
   "cell_type": "code",
   "execution_count": 94,
   "metadata": {},
   "outputs": [],
   "source": [
    "#import keras\n",
    "from keras import backend as K\n",
    "from keras.models import Sequential\n",
    "from keras.layers import Dense, Activation\n",
    "from keras.optimizers import SGD, Adam\n",
    "from keras.callbacks import EarlyStopping\n",
    "from keras import backend\n",
    "from keras.layers.wrappers import Bidirectional\n",
    "from keras.layers.recurrent import LSTM\n",
    "\n",
    "import numpy as np\n",
    "import pandas as pd\n",
    "\n",
    "import matplotlib.pyplot as plt\n",
    "%matplotlib inline\n",
    "import tensorflow as tf\n",
    "import datetime"
   ]
  },
  {
   "cell_type": "code",
   "execution_count": 44,
   "metadata": {},
   "outputs": [],
   "source": [
    "n_in = 39\n",
    "n_time = 20\n",
    "n_hidden = 128\n",
    "n_out = 20\n",
    "\n",
    "epochs = 10\n",
    "batch_size = 20"
   ]
  },
  {
   "cell_type": "code",
   "execution_count": 100,
   "metadata": {},
   "outputs": [],
   "source": [
    "log_mini= pd.read_csv(\"../../data/training_set_preproc/log_mini.csv\")\n",
    "sessions= pd.read_csv(\"../../data/training_set_preproc/session_log_mini.csv\")\n",
    "songs= log_mini.drop([\"session_id\",'y1', 'y2'], axis=1)\n",
    "# songs= log_mini.drop(['y2'], axis=1)\n",
    "\n",
    "x_fc = np.array(sessions.drop(['session_id'], axis=1))\n",
    "\n",
    "X_train = np.array(songs)\n",
    "#Y_train = np.array(log_mini['y2'])\n",
    "\n",
    "X_train_c = []\n",
    "for i in range(int(len(log_mini)/20)):\n",
    "    X_train_c.append(X_train[20*i:20*(i+1), :])\n",
    "\n",
    "X_train = np.array(X_train_c)\n",
    "#X_test = X_test.reshape(X_test.shape[0], 28, 28)"
   ]
  },
  {
   "cell_type": "code",
   "execution_count": 46,
   "metadata": {},
   "outputs": [
    {
     "name": "stdout",
     "output_type": "stream",
     "text": [
      "Index(['session_id', 'duration', 'release_year', 'us_popularity_estimate',\n",
      "       'acousticness', 'beat_strength', 'bounciness', 'danceability',\n",
      "       'dyn_range_mean', 'energy', 'flatness', 'instrumentalness', 'liveness',\n",
      "       'loudness', 'mechanism', 'organism', 'speechiness', 'tempo',\n",
      "       'time_signature', 'valence', 'acoustic_vector_0', 'acoustic_vector_1',\n",
      "       'acoustic_vector_2', 'acoustic_vector_3', 'acoustic_vector_4',\n",
      "       'acoustic_vector_5', 'acoustic_vector_6', 'acoustic_vector_7', 'key_0',\n",
      "       'key_1', 'key_2', 'key_3', 'key_4', 'key_5', 'key_6', 'key_7', 'key_8',\n",
      "       'key_9', 'key_10', 'mode_major', 'y1', 'y2'],\n",
      "      dtype='object')\n"
     ]
    }
   ],
   "source": [
    "print(log_mini.columns)"
   ]
  },
  {
   "cell_type": "code",
   "execution_count": 47,
   "metadata": {},
   "outputs": [
    {
     "name": "stdout",
     "output_type": "stream",
     "text": [
      "(10000, 20, 41)\n",
      "['0_00006f66-33e5-4de7-a324-2d18e439fc1e'\n",
      " '0_00006f66-33e5-4de7-a324-2d18e439fc1e'\n",
      " '0_00006f66-33e5-4de7-a324-2d18e439fc1e'\n",
      " '0_00006f66-33e5-4de7-a324-2d18e439fc1e'\n",
      " '0_00006f66-33e5-4de7-a324-2d18e439fc1e'\n",
      " '0_00006f66-33e5-4de7-a324-2d18e439fc1e'\n",
      " '0_00006f66-33e5-4de7-a324-2d18e439fc1e'\n",
      " '0_00006f66-33e5-4de7-a324-2d18e439fc1e'\n",
      " '0_00006f66-33e5-4de7-a324-2d18e439fc1e'\n",
      " '0_00006f66-33e5-4de7-a324-2d18e439fc1e'\n",
      " '0_00006f66-33e5-4de7-a324-2d18e439fc1e'\n",
      " '0_00006f66-33e5-4de7-a324-2d18e439fc1e'\n",
      " '0_00006f66-33e5-4de7-a324-2d18e439fc1e'\n",
      " '0_00006f66-33e5-4de7-a324-2d18e439fc1e'\n",
      " '0_00006f66-33e5-4de7-a324-2d18e439fc1e'\n",
      " '0_00006f66-33e5-4de7-a324-2d18e439fc1e'\n",
      " '0_00006f66-33e5-4de7-a324-2d18e439fc1e'\n",
      " '0_00006f66-33e5-4de7-a324-2d18e439fc1e'\n",
      " '0_00006f66-33e5-4de7-a324-2d18e439fc1e'\n",
      " '0_00006f66-33e5-4de7-a324-2d18e439fc1e']\n",
      "(200000, 41)\n",
      "['0_00006f66-33e5-4de7-a324-2d18e439fc1e'\n",
      " '0_00006f66-33e5-4de7-a324-2d18e439fc1e'\n",
      " '0_00006f66-33e5-4de7-a324-2d18e439fc1e'\n",
      " '0_00006f66-33e5-4de7-a324-2d18e439fc1e'\n",
      " '0_00006f66-33e5-4de7-a324-2d18e439fc1e'\n",
      " '0_00006f66-33e5-4de7-a324-2d18e439fc1e'\n",
      " '0_00006f66-33e5-4de7-a324-2d18e439fc1e'\n",
      " '0_00006f66-33e5-4de7-a324-2d18e439fc1e'\n",
      " '0_00006f66-33e5-4de7-a324-2d18e439fc1e'\n",
      " '0_00006f66-33e5-4de7-a324-2d18e439fc1e'\n",
      " '0_00006f66-33e5-4de7-a324-2d18e439fc1e'\n",
      " '0_00006f66-33e5-4de7-a324-2d18e439fc1e'\n",
      " '0_00006f66-33e5-4de7-a324-2d18e439fc1e'\n",
      " '0_00006f66-33e5-4de7-a324-2d18e439fc1e'\n",
      " '0_00006f66-33e5-4de7-a324-2d18e439fc1e'\n",
      " '0_00006f66-33e5-4de7-a324-2d18e439fc1e'\n",
      " '0_00006f66-33e5-4de7-a324-2d18e439fc1e'\n",
      " '0_00006f66-33e5-4de7-a324-2d18e439fc1e'\n",
      " '0_00006f66-33e5-4de7-a324-2d18e439fc1e'\n",
      " '0_00006f66-33e5-4de7-a324-2d18e439fc1e']\n"
     ]
    }
   ],
   "source": [
    "nx = np.array(songs)\n",
    "n = nx.shape[0]\n",
    "f = nx.shape[1]\n",
    "\n",
    "s = int(n/20)\n",
    "\n",
    "nx1 = np.reshape(nx,(s,20,f),order='C')\n",
    "\n",
    "\n",
    "print(nx1.shape)\n",
    "print(nx1[0,:,0])\n",
    "print(nx.shape)\n",
    "print(nx[:20,0])"
   ]
  },
  {
   "cell_type": "code",
   "execution_count": 48,
   "metadata": {},
   "outputs": [
    {
     "name": "stdout",
     "output_type": "stream",
     "text": [
      "['0_00006f66-33e5-4de7-a324-2d18e439fc1e'\n",
      " '0_00006f66-33e5-4de7-a324-2d18e439fc1e'\n",
      " '0_00006f66-33e5-4de7-a324-2d18e439fc1e'\n",
      " '0_00006f66-33e5-4de7-a324-2d18e439fc1e'\n",
      " '0_00006f66-33e5-4de7-a324-2d18e439fc1e'\n",
      " '0_00006f66-33e5-4de7-a324-2d18e439fc1e'\n",
      " '0_00006f66-33e5-4de7-a324-2d18e439fc1e'\n",
      " '0_00006f66-33e5-4de7-a324-2d18e439fc1e'\n",
      " '0_00006f66-33e5-4de7-a324-2d18e439fc1e'\n",
      " '0_00006f66-33e5-4de7-a324-2d18e439fc1e'\n",
      " '0_00006f66-33e5-4de7-a324-2d18e439fc1e'\n",
      " '0_00006f66-33e5-4de7-a324-2d18e439fc1e'\n",
      " '0_00006f66-33e5-4de7-a324-2d18e439fc1e'\n",
      " '0_00006f66-33e5-4de7-a324-2d18e439fc1e'\n",
      " '0_00006f66-33e5-4de7-a324-2d18e439fc1e'\n",
      " '0_00006f66-33e5-4de7-a324-2d18e439fc1e'\n",
      " '0_00006f66-33e5-4de7-a324-2d18e439fc1e'\n",
      " '0_00006f66-33e5-4de7-a324-2d18e439fc1e'\n",
      " '0_00006f66-33e5-4de7-a324-2d18e439fc1e'\n",
      " '0_00006f66-33e5-4de7-a324-2d18e439fc1e']\n",
      "['0_0e506bcb-7a0e-43c7-8444-f242ef7e587e'\n",
      " '0_0e506bcb-7a0e-43c7-8444-f242ef7e587e'\n",
      " '0_0e506bcb-7a0e-43c7-8444-f242ef7e587e'\n",
      " '0_0e506bcb-7a0e-43c7-8444-f242ef7e587e'\n",
      " '0_0e506bcb-7a0e-43c7-8444-f242ef7e587e'\n",
      " '0_0e506bcb-7a0e-43c7-8444-f242ef7e587e'\n",
      " '0_0e506bcb-7a0e-43c7-8444-f242ef7e587e'\n",
      " '0_0e506bcb-7a0e-43c7-8444-f242ef7e587e'\n",
      " '0_0e506bcb-7a0e-43c7-8444-f242ef7e587e'\n",
      " '0_0e506bcb-7a0e-43c7-8444-f242ef7e587e'\n",
      " '0_0e506bcb-7a0e-43c7-8444-f242ef7e587e'\n",
      " '0_0e506bcb-7a0e-43c7-8444-f242ef7e587e'\n",
      " '0_0e506bcb-7a0e-43c7-8444-f242ef7e587e'\n",
      " '0_0e506bcb-7a0e-43c7-8444-f242ef7e587e'\n",
      " '0_0e506bcb-7a0e-43c7-8444-f242ef7e587e'\n",
      " '0_0e506bcb-7a0e-43c7-8444-f242ef7e587e'\n",
      " '0_0e506bcb-7a0e-43c7-8444-f242ef7e587e'\n",
      " '0_0e506bcb-7a0e-43c7-8444-f242ef7e587e'\n",
      " '0_0e506bcb-7a0e-43c7-8444-f242ef7e587e'\n",
      " '0_0e506bcb-7a0e-43c7-8444-f242ef7e587e']\n"
     ]
    }
   ],
   "source": [
    "shuffle_indices = np.random.permutation(np.arange(s))\n",
    "x_rnn_s = nx1[shuffle_indices,:,:]\n",
    "\n",
    "print(nx1[0,:,0])\n",
    "print(x_rnn_s[1,:,0])"
   ]
  },
  {
   "cell_type": "code",
   "execution_count": 49,
   "metadata": {},
   "outputs": [
    {
     "name": "stdout",
     "output_type": "stream",
     "text": [
      "(10000, 11)\n"
     ]
    }
   ],
   "source": [
    "nfc = np.array(sessions)\n",
    "\n",
    "print(nfc.shape)"
   ]
  },
  {
   "cell_type": "code",
   "execution_count": 50,
   "metadata": {},
   "outputs": [],
   "source": [
    "Y_train = np.array(log_mini['y2'])\n",
    "Y_train_c = []\n",
    "for i in range(int(len(log_mini)/20)):\n",
    "    Y_train_c.append(Y_train[20*i:20*(i+1)])\n",
    "Y_train = np.array(Y_train_c)"
   ]
  },
  {
   "cell_type": "code",
   "execution_count": null,
   "metadata": {},
   "outputs": [],
   "source": []
  },
  {
   "cell_type": "code",
   "execution_count": 58,
   "metadata": {},
   "outputs": [
    {
     "name": "stdout",
     "output_type": "stream",
     "text": [
      "(10000, 20, 39) (10000, 20) (200000, 42)\n"
     ]
    }
   ],
   "source": [
    "print(X_train.shape, Y_train.shape, log_mini.shape)"
   ]
  },
  {
   "cell_type": "code",
   "execution_count": 52,
   "metadata": {},
   "outputs": [],
   "source": [
    "def weight_variable(shape, name=None):\n",
    "    return np.random.normal(scale=.01, size=shape)"
   ]
  },
  {
   "cell_type": "code",
   "execution_count": 53,
   "metadata": {},
   "outputs": [],
   "source": [
    "def selective_hinge(y_true, y_pred):\n",
    "    return K.mean(K.maximum(1. - y_true * y_pred, 0.) * K.pow(y_true,2), axis=-1)"
   ]
  },
  {
   "cell_type": "code",
   "execution_count": 54,
   "metadata": {},
   "outputs": [],
   "source": [
    "def selective_binary_accuracy(y_true, y_pred):\n",
    "    return K.mean(K.equal(y_true, K.sign(y_pred)), axis=-1)"
   ]
  },
  {
   "cell_type": "code",
   "execution_count": 59,
   "metadata": {},
   "outputs": [
    {
     "name": "stdout",
     "output_type": "stream",
     "text": [
      "_________________________________________________________________\n",
      "Layer (type)                 Output Shape              Param #   \n",
      "=================================================================\n",
      "lstm_2 (LSTM)                (None, 128)               86016     \n",
      "_________________________________________________________________\n",
      "dense_2 (Dense)              (None, 20)                2580      \n",
      "_________________________________________________________________\n",
      "activation_2 (Activation)    (None, 20)                0         \n",
      "=================================================================\n",
      "Total params: 88,596\n",
      "Trainable params: 88,596\n",
      "Non-trainable params: 0\n",
      "_________________________________________________________________\n"
     ]
    }
   ],
   "source": [
    "from keras.models import load_model\n",
    "\n",
    "model = Sequential()\n",
    "model.add(LSTM(n_hidden, input_shape=(n_time, n_in)))\n",
    "model.add(Dense(n_out, kernel_initializer=weight_variable))\n",
    "model.add(Activation('linear'))\n",
    "\n",
    "#\n",
    "#model = load_model(\"model.h5\", custom_objects={'selective_hinge': selective_hinge})\n",
    "\n",
    "model.compile(loss='hinge',\n",
    "              optimizer=Adam(lr=0.001, beta_1=0.9, beta_2=0.999),\n",
    "              metrics=[selective_binary_accuracy])\n",
    "\n",
    "model.summary()"
   ]
  },
  {
   "cell_type": "code",
   "execution_count": 60,
   "metadata": {},
   "outputs": [
    {
     "name": "stdout",
     "output_type": "stream",
     "text": [
      "Train on 10000 samples, validate on 10000 samples\n",
      "Epoch 1/10\n",
      "10000/10000 [==============================] - 10s 1ms/step - loss: 0.9619 - selective_binary_accuracy: 0.2355 - val_loss: 0.9504 - val_selective_binary_accuracy: 0.2391\n",
      "Epoch 2/10\n",
      "10000/10000 [==============================] - 11s 1ms/step - loss: 0.9503 - selective_binary_accuracy: 0.2399 - val_loss: 0.9502 - val_selective_binary_accuracy: 0.2407\n",
      "Epoch 3/10\n",
      "10000/10000 [==============================] - 10s 1ms/step - loss: 0.9487 - selective_binary_accuracy: 0.2405 - val_loss: 0.9480 - val_selective_binary_accuracy: 0.2416\n",
      "Epoch 4/10\n",
      "10000/10000 [==============================] - 12s 1ms/step - loss: 0.9475 - selective_binary_accuracy: 0.2408 - val_loss: 0.9504 - val_selective_binary_accuracy: 0.2417\n",
      "Epoch 5/10\n",
      "10000/10000 [==============================] - 9s 947us/step - loss: 0.9463 - selective_binary_accuracy: 0.2416 - val_loss: 0.9445 - val_selective_binary_accuracy: 0.2418\n",
      "Epoch 6/10\n",
      "10000/10000 [==============================] - 12s 1ms/step - loss: 0.9455 - selective_binary_accuracy: 0.2418 - val_loss: 0.9443 - val_selective_binary_accuracy: 0.2426\n",
      "Epoch 7/10\n",
      "10000/10000 [==============================] - 11s 1ms/step - loss: 0.9443 - selective_binary_accuracy: 0.2422 - val_loss: 0.9434 - val_selective_binary_accuracy: 0.2423\n",
      "Epoch 8/10\n",
      "10000/10000 [==============================] - 11s 1ms/step - loss: 0.9444 - selective_binary_accuracy: 0.2422 - val_loss: 0.9444 - val_selective_binary_accuracy: 0.2419\n",
      "Epoch 9/10\n",
      "10000/10000 [==============================] - 11s 1ms/step - loss: 0.9445 - selective_binary_accuracy: 0.2419 - val_loss: 0.9438 - val_selective_binary_accuracy: 0.2423\n",
      "Epoch 10/10\n",
      "10000/10000 [==============================] - 11s 1ms/step - loss: 0.9443 - selective_binary_accuracy: 0.2421 - val_loss: 0.9436 - val_selective_binary_accuracy: 0.2422\n"
     ]
    }
   ],
   "source": [
    "early_stopping = EarlyStopping(monitor='val_loss', patience=10, verbose=1)\n",
    "\n",
    "hist = model.fit(X_train, Y_train,\n",
    "                 batch_size=batch_size,\n",
    "                 epochs=epochs,\n",
    "                 validation_data=(X_train, Y_train),\n",
    "                 callbacks=[early_stopping])"
   ]
  },
  {
   "cell_type": "code",
   "execution_count": 70,
   "metadata": {},
   "outputs": [
    {
     "name": "stdout",
     "output_type": "stream",
     "text": [
      "dict_keys(['selective_binary_accuracy', 'val_loss', 'loss', 'val_selective_binary_accuracy'])\n",
      "selective_binary_accuracy\n",
      "val_loss\n",
      "val_loss\n",
      "loss\n",
      "loss\n",
      "val_selective_binary_accuracy\n",
      "val_selective_binary_accuracy\n",
      "selective_binary_accuracy\n",
      "['loss', 'selective_binary_accuracy']\n"
     ]
    }
   ],
   "source": [
    "keys = hist.history.keys()\n",
    "print(keys)\n",
    "list_metrics = []\n",
    "\n",
    "for key in keys:\n",
    "    print(key)\n",
    "#     if key.find('val_') > -1 and key.find('val_loss') == -1:\n",
    "    if key.find('val_') > -1:\n",
    "        print(key)\n",
    "        print(key[4:])\n",
    "        list_metrics.append(key[4:])\n",
    "    \n",
    "print(list_metrics)"
   ]
  },
  {
   "cell_type": "code",
   "execution_count": null,
   "metadata": {},
   "outputs": [],
   "source": [
    "model.predict({'tracks_input': x_rnn, 'session_input': x_fc}"
   ]
  },
  {
   "cell_type": "code",
   "execution_count": 108,
   "metadata": {},
   "outputs": [
    {
     "name": "stdout",
     "output_type": "stream",
     "text": [
      "[20. 20. 20. 20. 11. 15. 15. 20. 20. 20.]\n",
      "10000\n"
     ]
    }
   ],
   "source": [
    "##### CREATE SUBMISSION\n",
    "session_lengths = x_fc[:,0] * 10 + 10\n",
    "\n",
    "print(session_lengths[:10])\n",
    "print(session_lengths.shape[0])"
   ]
  },
  {
   "cell_type": "code",
   "execution_count": null,
   "metadata": {},
   "outputs": [],
   "source": []
  },
  {
   "cell_type": "code",
   "execution_count": 93,
   "metadata": {},
   "outputs": [
    {
     "name": "stdout",
     "output_type": "stream",
     "text": [
      "(500, 20) (500, 20)\n",
      "[[ 0  0  0  0  0  0  0  0  0  0  1  1  1 -1  1  1  1  1  1  1]\n",
      " [ 0  0  0  0  0  0  0  0  0  0 -1 -1  1 -1  1  1 -1 -1 -1 -1]\n",
      " [ 0  0  0  0  0  0  0  0  0  0 -1  1 -1 -1  1  1  1  1  1  1]\n",
      " [ 0  0  0  0  0  0  0  0  0  0  1  1  1  1  1  1 -1  1  1  1]\n",
      " [ 0  0  0  0  0 -1 -1 -1 -1 -1 -1  0  0  0  0  0  0  0  0  0]\n",
      " [ 0  0  0  0  0  0  0 -1 -1 -1  1 -1 -1 -1 -1  0  0  0  0  0]\n",
      " [ 0  0  0  0  0  0  0  1  1 -1 -1 -1 -1 -1 -1  0  0  0  0  0]\n",
      " [ 0  0  0  0  0  0  0  0  0  0 -1 -1 -1 -1 -1 -1 -1 -1 -1 -1]\n",
      " [ 0  0  0  0  0  0  0  0  0  0 -1 -1 -1 -1 -1 -1 -1 -1  1 -1]\n",
      " [ 0  0  0  0  0  0  0  0  0  0 -1  1 -1 -1 -1 -1 -1 -1 -1 -1]] [[-0.44627021  0.74931262  0.22750282  0.45272606  0.01607531  0.61279088\n",
      "   0.31581785 -0.05774814  0.24536694 -0.32510257 -0.23185121 -0.59297167\n",
      "  -0.43991567 -0.4634988  -0.30440751 -0.05405813  0.29518901  0.03634753\n",
      "   0.03266439 -0.01378714]\n",
      " [ 0.64510617 -0.05401613  0.059308   -0.67140516  0.04928665  0.60163959\n",
      "  -0.07399085 -0.01173897  0.11674114 -0.030238   -0.07198765  0.60594639\n",
      "  -0.34227551 -0.48286817  0.71280277  0.70585023 -0.61930449  0.67938836\n",
      "  -0.52544882  0.68030005]\n",
      " [ 0.65628663  0.13879975 -0.54178193  0.28467223 -0.43674897  0.62469399\n",
      "  -0.20290855 -0.52594293  0.14579067 -0.10230982 -0.66717353 -0.60239247\n",
      "  -0.61942869 -0.22084049 -0.28824071 -0.39529583 -0.06424246 -0.24661494\n",
      "   0.34647511  0.55586728]\n",
      " [-0.56243838  0.37921361  0.21590941 -0.61091712  0.70690363  0.02264099\n",
      "  -0.2548996  -0.21884587 -0.12756645  0.17451483  0.32507625 -0.04268446\n",
      "   0.49878166 -0.48773749 -0.58616861 -0.00570563  0.47853875 -0.1531485\n",
      "   0.45852608 -0.69100338]\n",
      " [-0.59197194  0.56641898 -0.28551692 -0.55846345  0.13123021 -0.072712\n",
      "   0.70672055 -0.17788545 -0.49409224  0.4036612  -0.41067969  0.13170575\n",
      "   0.6437502   0.10860435 -0.21666114 -0.23125036 -0.52623874  0.32144658\n",
      "  -0.57533323 -0.21641334]\n",
      " [-0.36000286 -0.56833143  0.63078404 -0.29747792 -0.68081512 -0.70070576\n",
      "   0.07502259 -0.20107807  0.18892045 -0.3866535  -0.31274127 -0.35117812\n",
      "   0.0550036   0.24609896  0.68835226 -0.65256894  0.63513657  0.15413054\n",
      "  -0.24067692  0.06596304]\n",
      " [ 0.50165955 -0.11934083 -0.14174741 -0.34627825 -0.07442567  0.40700098\n",
      "  -0.43794725  0.44631527 -0.65123464  0.65706641  0.27061374 -0.64295501\n",
      "  -0.12875627 -0.62486612  0.57535516 -0.67639657 -0.27397389 -0.62114502\n",
      "  -0.18679936  0.26010333]\n",
      " [ 0.13845719  0.64659136 -0.7358776  -0.69429006  0.03090935  0.53080838\n",
      "  -0.39905518 -0.32141376 -0.64073854 -0.42928833 -0.12951342  0.12253588\n",
      "   0.72394284  0.70041281 -0.44340707 -0.24151965  0.73131567 -0.43991184\n",
      "   0.74732522 -0.41119711]\n",
      " [ 0.23775554 -0.02916616  0.11051427 -0.13292915  0.67482246 -0.18336449\n",
      "   0.72715738 -0.12764902 -0.11033708  0.2125791   0.1612172  -0.29729415\n",
      "   0.55363414  0.27949155 -0.26166939  0.15065434  0.47432899  0.02402261\n",
      "   0.3666178  -0.22566238]\n",
      " [ 0.41738744 -0.39116485  0.35104314 -0.73946102  0.21759411 -0.50380651\n",
      "   0.70703423 -0.36248271 -0.21014128 -0.4289306  -0.20919744 -0.05286962\n",
      "  -0.70672208 -0.18076957 -0.72988889 -0.1371187   0.7433958   0.2222203\n",
      "  -0.51981157 -0.58165677]]\n"
     ]
    }
   ],
   "source": [
    "##### CREATE SUBMISSION\n",
    "y_true = Y_train[:500,:]\n",
    "y_pred = (np.random.rand(500,20) - 0.5) * 1.5\n",
    "\n",
    "print(y_true.shape, y_pred.shape)\n",
    "print(y_true[:10,:], y_pred[:10,:])\n",
    "\n",
    "assert y_true.shape == y_pred.shape"
   ]
  },
  {
   "cell_type": "code",
   "execution_count": 86,
   "metadata": {},
   "outputs": [
    {
     "name": "stdout",
     "output_type": "stream",
     "text": [
      "[[False False False False False False False False False False  True  True\n",
      "   True  True  True  True  True  True  True  True]\n",
      " [False False False False False False False False False False  True  True\n",
      "   True  True  True  True  True  True  True  True]\n",
      " [False False False False False False False False False False  True  True\n",
      "   True  True  True  True  True  True  True  True]\n",
      " [False False False False False False False False False False  True  True\n",
      "   True  True  True  True  True  True  True  True]\n",
      " [False False False False False  True  True  True  True  True  True False\n",
      "  False False False False False False False False]\n",
      " [False False False False False False False  True  True  True  True  True\n",
      "   True  True  True False False False False False]\n",
      " [False False False False False False False  True  True  True  True  True\n",
      "   True  True  True False False False False False]\n",
      " [False False False False False False False False False False  True  True\n",
      "   True  True  True  True  True  True  True  True]\n",
      " [False False False False False False False False False False  True  True\n",
      "   True  True  True  True  True  True  True  True]\n",
      " [False False False False False False False False False False  True  True\n",
      "   True  True  True  True  True  True  True  True]]\n",
      "[[1 0 1 0 0 1 0 1 1 1 0 1 1 0 1 1 0 0 0 1]\n",
      " [0 1 0 1 0 0 0 1 1 0 1 1 0 1 0 1 1 0 0 0]\n",
      " [1 0 1 0 1 0 1 0 0 1 0 1 1 0 1 1 0 1 1 1]\n",
      " [1 0 0 1 0 1 1 0 0 0 1 1 1 0 0 1 1 1 0 1]\n",
      " [1 0 1 1 0 1 1 0 0 0 0 0 1 1 0 1 0 0 1 1]\n",
      " [1 1 1 0 0 0 1 1 0 0 0 0 0 0 0 1 1 1 1 0]\n",
      " [0 0 0 1 0 0 0 0 1 1 0 0 0 1 0 1 0 0 0 0]\n",
      " [0 0 0 0 1 1 1 0 0 0 0 0 1 0 0 1 1 0 0 1]\n",
      " [1 1 0 0 1 1 1 0 0 1 1 0 0 0 1 0 0 1 0 1]\n",
      " [0 0 1 0 1 0 1 1 0 0 1 0 1 1 1 0 0 1 0 1]]\n",
      "4297\n"
     ]
    }
   ],
   "source": [
    "y_pred_01 = np.round((np.sign(y_pred) + 1) / 2).astype(int)\n",
    "y_true_01 = np.abs(y_true).astype(bool)\n",
    "\n",
    "print(y_true_01[:10,:])\n",
    "print(y_pred_01[:10,:])\n",
    "print(np.sum(y_true_01))\n"
   ]
  },
  {
   "cell_type": "code",
   "execution_count": 92,
   "metadata": {},
   "outputs": [
    {
     "name": "stdout",
     "output_type": "stream",
     "text": [
      "[0 1 1 0 1 1 0 0 0 1]\n",
      "0 1 1 0 1 1 0 0 0 1\n",
      "\n",
      "[1 1 0 1 0 1 1 0 0 0]\n",
      "1 1 0 1 0 1 1 0 0 0\n",
      "\n",
      "[0 1 1 0 1 1 0 1 1 1]\n",
      "0 1 1 0 1 1 0 1 1 1\n",
      "\n",
      "[1 1 1 0 0 1 1 1 0 1]\n",
      "1 1 1 0 0 1 1 1 0 1\n",
      "\n",
      "[1 1 0 0 0 0]\n",
      "1 1 0 0 0 0\n",
      "\n",
      "[1 0 0 0 0 0 0 0]\n",
      "1 0 0 0 0 0 0 0\n",
      "\n",
      "[0 1 1 0 0 0 1 0]\n",
      "0 1 1 0 0 0 1 0\n",
      "\n",
      "[0 0 1 0 0 1 1 0 0 1]\n",
      "0 0 1 0 0 1 1 0 0 1\n",
      "\n",
      "[1 0 0 0 1 0 0 1 0 1]\n",
      "1 0 0 0 1 0 0 1 0 1\n",
      "\n",
      "[1 0 1 1 1 0 0 1 0 1]\n",
      "1 0 1 1 1 0 0 1 0 1\n",
      "\n"
     ]
    }
   ],
   "source": [
    "# for i in range(y_pred_01.shape[0]):\n",
    "for i in range(10):\n",
    "    a = y_pred_01[i,y_true_01[i,:]]\n",
    "    print(a)\n",
    "    line = ' '.join(map(str,a))\n",
    "#     f.write(line + '\\n')\n",
    "    print(line + '\\n')"
   ]
  },
  {
   "cell_type": "code",
   "execution_count": 105,
   "metadata": {},
   "outputs": [
    {
     "name": "stdout",
     "output_type": "stream",
     "text": [
      "[0 1 1 0 1 1 0 0 0 1]\n",
      "0 1 1 0 1 1 0 0 0 1\n",
      "\n",
      "[1 1 0 1 0 1 1 0 0 0]\n",
      "1 1 0 1 0 1 1 0 0 0\n",
      "\n",
      "[0 1 1 0 1 1 0 1 1 1]\n",
      "0 1 1 0 1 1 0 1 1 1\n",
      "\n",
      "[1 1 1 0 0 1 1 1 0 1]\n",
      "1 1 1 0 0 1 1 1 0 1\n",
      "\n",
      "[1 1 0 0 0 0]\n",
      "1 1 0 0 0 0\n",
      "\n",
      "[1 0 0 0 0 0 0 0]\n",
      "1 0 0 0 0 0 0 0\n",
      "\n",
      "[0 1 1 0 0 0 1 0]\n",
      "0 1 1 0 0 0 1 0\n",
      "\n",
      "[0 0 1 0 0 1 1 0 0 1]\n",
      "0 0 1 0 0 1 1 0 0 1\n",
      "\n",
      "[1 0 0 0 1 0 0 1 0 1]\n",
      "1 0 0 0 1 0 0 1 0 1\n",
      "\n",
      "[1 0 1 1 1 0 0 1 0 1]\n",
      "1 0 1 1 1 0 0 1 0 1\n",
      "\n"
     ]
    }
   ],
   "source": [
    "for i in range(10):\n",
    "    ls = session_lengths[i]\n",
    "    a = y_pred_01[i,int(ls/2):int(ls)]\n",
    "    print(a)\n",
    "    line = ' '.join(map(str,a))\n",
    "#     f.write(line + '\\n')\n",
    "    print(line + '\\n')"
   ]
  },
  {
   "cell_type": "code",
   "execution_count": 98,
   "metadata": {},
   "outputs": [
    {
     "name": "stdout",
     "output_type": "stream",
     "text": [
      "2018-12-23 10:52:53.843842\n",
      "2018-12-23_10-52\n"
     ]
    }
   ],
   "source": [
    "now = datetime.datetime.now()\n",
    "print(now)\n",
    "now1 = now.strftime(\"%Y-%m-%d_%H-%M\")\n",
    "print(now1)"
   ]
  },
  {
   "cell_type": "code",
   "execution_count": null,
   "metadata": {},
   "outputs": [],
   "source": []
  },
  {
   "cell_type": "code",
   "execution_count": null,
   "metadata": {},
   "outputs": [],
   "source": []
  },
  {
   "cell_type": "code",
   "execution_count": null,
   "metadata": {},
   "outputs": [],
   "source": []
  },
  {
   "cell_type": "code",
   "execution_count": null,
   "metadata": {},
   "outputs": [],
   "source": []
  },
  {
   "cell_type": "code",
   "execution_count": null,
   "metadata": {},
   "outputs": [],
   "source": []
  },
  {
   "cell_type": "code",
   "execution_count": null,
   "metadata": {},
   "outputs": [],
   "source": []
  },
  {
   "cell_type": "code",
   "execution_count": null,
   "metadata": {},
   "outputs": [],
   "source": []
  },
  {
   "cell_type": "code",
   "execution_count": null,
   "metadata": {},
   "outputs": [],
   "source": []
  },
  {
   "cell_type": "code",
   "execution_count": null,
   "metadata": {},
   "outputs": [],
   "source": []
  },
  {
   "cell_type": "code",
   "execution_count": null,
   "metadata": {},
   "outputs": [],
   "source": []
  },
  {
   "cell_type": "code",
   "execution_count": null,
   "metadata": {},
   "outputs": [],
   "source": []
  },
  {
   "cell_type": "code",
   "execution_count": null,
   "metadata": {},
   "outputs": [],
   "source": []
  },
  {
   "cell_type": "code",
   "execution_count": null,
   "metadata": {},
   "outputs": [],
   "source": []
  },
  {
   "cell_type": "code",
   "execution_count": null,
   "metadata": {},
   "outputs": [],
   "source": []
  },
  {
   "cell_type": "code",
   "execution_count": null,
   "metadata": {},
   "outputs": [],
   "source": []
  },
  {
   "cell_type": "code",
   "execution_count": null,
   "metadata": {},
   "outputs": [],
   "source": []
  },
  {
   "cell_type": "code",
   "execution_count": null,
   "metadata": {},
   "outputs": [],
   "source": []
  },
  {
   "cell_type": "code",
   "execution_count": null,
   "metadata": {},
   "outputs": [],
   "source": []
  },
  {
   "cell_type": "code",
   "execution_count": null,
   "metadata": {},
   "outputs": [],
   "source": []
  },
  {
   "cell_type": "code",
   "execution_count": null,
   "metadata": {},
   "outputs": [],
   "source": []
  },
  {
   "cell_type": "code",
   "execution_count": null,
   "metadata": {},
   "outputs": [],
   "source": []
  },
  {
   "cell_type": "code",
   "execution_count": null,
   "metadata": {},
   "outputs": [],
   "source": []
  },
  {
   "cell_type": "code",
   "execution_count": null,
   "metadata": {},
   "outputs": [],
   "source": []
  },
  {
   "cell_type": "code",
   "execution_count": null,
   "metadata": {},
   "outputs": [],
   "source": []
  },
  {
   "cell_type": "code",
   "execution_count": null,
   "metadata": {},
   "outputs": [],
   "source": []
  },
  {
   "cell_type": "code",
   "execution_count": null,
   "metadata": {},
   "outputs": [],
   "source": []
  },
  {
   "cell_type": "code",
   "execution_count": null,
   "metadata": {},
   "outputs": [],
   "source": []
  },
  {
   "cell_type": "code",
   "execution_count": null,
   "metadata": {},
   "outputs": [],
   "source": []
  },
  {
   "cell_type": "code",
   "execution_count": null,
   "metadata": {},
   "outputs": [],
   "source": []
  },
  {
   "cell_type": "code",
   "execution_count": null,
   "metadata": {},
   "outputs": [],
   "source": []
  }
 ],
 "metadata": {
  "kernelspec": {
   "display_name": "Python 3",
   "language": "python",
   "name": "python3"
  },
  "language_info": {
   "codemirror_mode": {
    "name": "ipython",
    "version": 3
   },
   "file_extension": ".py",
   "mimetype": "text/x-python",
   "name": "python",
   "nbconvert_exporter": "python",
   "pygments_lexer": "ipython3",
   "version": "3.5.2"
  }
 },
 "nbformat": 4,
 "nbformat_minor": 2
}
