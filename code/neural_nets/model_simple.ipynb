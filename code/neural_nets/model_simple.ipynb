{
 "cells": [
  {
   "cell_type": "code",
   "execution_count": 1,
   "metadata": {},
   "outputs": [
    {
     "name": "stderr",
     "output_type": "stream",
     "text": [
      "Using TensorFlow backend.\n"
     ]
    }
   ],
   "source": [
    "#import keras\n",
    "from keras import backend as K\n",
    "from keras.models import Sequential\n",
    "from keras.layers import Dense, Activation\n",
    "from keras.optimizers import SGD, Adam\n",
    "from keras.callbacks import EarlyStopping\n",
    "from keras import backend\n",
    "from keras.layers.wrappers import Bidirectional\n",
    "from keras.layers.recurrent import LSTM\n",
    "\n",
    "import numpy as np\n",
    "import pandas as pd\n",
    "\n",
    "import matplotlib.pyplot as plt\n",
    "%matplotlib inline\n",
    "import tensorflow as tf"
   ]
  },
  {
   "cell_type": "code",
   "execution_count": 44,
   "metadata": {},
   "outputs": [],
   "source": [
    "n_in = 39\n",
    "n_time = 20\n",
    "n_hidden = 128\n",
    "n_out = 20\n",
    "\n",
    "epochs = 10\n",
    "batch_size = 20"
   ]
  },
  {
   "cell_type": "code",
   "execution_count": 57,
   "metadata": {},
   "outputs": [],
   "source": [
    "log_mini= pd.read_csv(\"../../data/training_set_preproc/log_mini.csv\")\n",
    "sessions= pd.read_csv(\"../../data/training_set_preproc/session_log_mini.csv\")\n",
    "songs= log_mini.drop([\"session_id\",'y1', 'y2'], axis=1)\n",
    "# songs= log_mini.drop(['y2'], axis=1)\n",
    "\n",
    "\n",
    "X_train = np.array(songs)\n",
    "#Y_train = np.array(log_mini['y2'])\n",
    "\n",
    "X_train_c = []\n",
    "for i in range(int(len(log_mini)/20)):\n",
    "    X_train_c.append(X_train[20*i:20*(i+1), :])\n",
    "\n",
    "X_train = np.array(X_train_c)\n",
    "#X_test = X_test.reshape(X_test.shape[0], 28, 28)"
   ]
  },
  {
   "cell_type": "code",
   "execution_count": 46,
   "metadata": {},
   "outputs": [
    {
     "name": "stdout",
     "output_type": "stream",
     "text": [
      "Index(['session_id', 'duration', 'release_year', 'us_popularity_estimate',\n",
      "       'acousticness', 'beat_strength', 'bounciness', 'danceability',\n",
      "       'dyn_range_mean', 'energy', 'flatness', 'instrumentalness', 'liveness',\n",
      "       'loudness', 'mechanism', 'organism', 'speechiness', 'tempo',\n",
      "       'time_signature', 'valence', 'acoustic_vector_0', 'acoustic_vector_1',\n",
      "       'acoustic_vector_2', 'acoustic_vector_3', 'acoustic_vector_4',\n",
      "       'acoustic_vector_5', 'acoustic_vector_6', 'acoustic_vector_7', 'key_0',\n",
      "       'key_1', 'key_2', 'key_3', 'key_4', 'key_5', 'key_6', 'key_7', 'key_8',\n",
      "       'key_9', 'key_10', 'mode_major', 'y1', 'y2'],\n",
      "      dtype='object')\n"
     ]
    }
   ],
   "source": [
    "print(log_mini.columns)"
   ]
  },
  {
   "cell_type": "code",
   "execution_count": 47,
   "metadata": {},
   "outputs": [
    {
     "name": "stdout",
     "output_type": "stream",
     "text": [
      "(10000, 20, 41)\n",
      "['0_00006f66-33e5-4de7-a324-2d18e439fc1e'\n",
      " '0_00006f66-33e5-4de7-a324-2d18e439fc1e'\n",
      " '0_00006f66-33e5-4de7-a324-2d18e439fc1e'\n",
      " '0_00006f66-33e5-4de7-a324-2d18e439fc1e'\n",
      " '0_00006f66-33e5-4de7-a324-2d18e439fc1e'\n",
      " '0_00006f66-33e5-4de7-a324-2d18e439fc1e'\n",
      " '0_00006f66-33e5-4de7-a324-2d18e439fc1e'\n",
      " '0_00006f66-33e5-4de7-a324-2d18e439fc1e'\n",
      " '0_00006f66-33e5-4de7-a324-2d18e439fc1e'\n",
      " '0_00006f66-33e5-4de7-a324-2d18e439fc1e'\n",
      " '0_00006f66-33e5-4de7-a324-2d18e439fc1e'\n",
      " '0_00006f66-33e5-4de7-a324-2d18e439fc1e'\n",
      " '0_00006f66-33e5-4de7-a324-2d18e439fc1e'\n",
      " '0_00006f66-33e5-4de7-a324-2d18e439fc1e'\n",
      " '0_00006f66-33e5-4de7-a324-2d18e439fc1e'\n",
      " '0_00006f66-33e5-4de7-a324-2d18e439fc1e'\n",
      " '0_00006f66-33e5-4de7-a324-2d18e439fc1e'\n",
      " '0_00006f66-33e5-4de7-a324-2d18e439fc1e'\n",
      " '0_00006f66-33e5-4de7-a324-2d18e439fc1e'\n",
      " '0_00006f66-33e5-4de7-a324-2d18e439fc1e']\n",
      "(200000, 41)\n",
      "['0_00006f66-33e5-4de7-a324-2d18e439fc1e'\n",
      " '0_00006f66-33e5-4de7-a324-2d18e439fc1e'\n",
      " '0_00006f66-33e5-4de7-a324-2d18e439fc1e'\n",
      " '0_00006f66-33e5-4de7-a324-2d18e439fc1e'\n",
      " '0_00006f66-33e5-4de7-a324-2d18e439fc1e'\n",
      " '0_00006f66-33e5-4de7-a324-2d18e439fc1e'\n",
      " '0_00006f66-33e5-4de7-a324-2d18e439fc1e'\n",
      " '0_00006f66-33e5-4de7-a324-2d18e439fc1e'\n",
      " '0_00006f66-33e5-4de7-a324-2d18e439fc1e'\n",
      " '0_00006f66-33e5-4de7-a324-2d18e439fc1e'\n",
      " '0_00006f66-33e5-4de7-a324-2d18e439fc1e'\n",
      " '0_00006f66-33e5-4de7-a324-2d18e439fc1e'\n",
      " '0_00006f66-33e5-4de7-a324-2d18e439fc1e'\n",
      " '0_00006f66-33e5-4de7-a324-2d18e439fc1e'\n",
      " '0_00006f66-33e5-4de7-a324-2d18e439fc1e'\n",
      " '0_00006f66-33e5-4de7-a324-2d18e439fc1e'\n",
      " '0_00006f66-33e5-4de7-a324-2d18e439fc1e'\n",
      " '0_00006f66-33e5-4de7-a324-2d18e439fc1e'\n",
      " '0_00006f66-33e5-4de7-a324-2d18e439fc1e'\n",
      " '0_00006f66-33e5-4de7-a324-2d18e439fc1e']\n"
     ]
    }
   ],
   "source": [
    "nx = np.array(songs)\n",
    "n = nx.shape[0]\n",
    "f = nx.shape[1]\n",
    "\n",
    "s = int(n/20)\n",
    "\n",
    "nx1 = np.reshape(nx,(s,20,f),order='C')\n",
    "\n",
    "\n",
    "print(nx1.shape)\n",
    "print(nx1[0,:,0])\n",
    "print(nx.shape)\n",
    "print(nx[:20,0])"
   ]
  },
  {
   "cell_type": "code",
   "execution_count": 48,
   "metadata": {},
   "outputs": [
    {
     "name": "stdout",
     "output_type": "stream",
     "text": [
      "['0_00006f66-33e5-4de7-a324-2d18e439fc1e'\n",
      " '0_00006f66-33e5-4de7-a324-2d18e439fc1e'\n",
      " '0_00006f66-33e5-4de7-a324-2d18e439fc1e'\n",
      " '0_00006f66-33e5-4de7-a324-2d18e439fc1e'\n",
      " '0_00006f66-33e5-4de7-a324-2d18e439fc1e'\n",
      " '0_00006f66-33e5-4de7-a324-2d18e439fc1e'\n",
      " '0_00006f66-33e5-4de7-a324-2d18e439fc1e'\n",
      " '0_00006f66-33e5-4de7-a324-2d18e439fc1e'\n",
      " '0_00006f66-33e5-4de7-a324-2d18e439fc1e'\n",
      " '0_00006f66-33e5-4de7-a324-2d18e439fc1e'\n",
      " '0_00006f66-33e5-4de7-a324-2d18e439fc1e'\n",
      " '0_00006f66-33e5-4de7-a324-2d18e439fc1e'\n",
      " '0_00006f66-33e5-4de7-a324-2d18e439fc1e'\n",
      " '0_00006f66-33e5-4de7-a324-2d18e439fc1e'\n",
      " '0_00006f66-33e5-4de7-a324-2d18e439fc1e'\n",
      " '0_00006f66-33e5-4de7-a324-2d18e439fc1e'\n",
      " '0_00006f66-33e5-4de7-a324-2d18e439fc1e'\n",
      " '0_00006f66-33e5-4de7-a324-2d18e439fc1e'\n",
      " '0_00006f66-33e5-4de7-a324-2d18e439fc1e'\n",
      " '0_00006f66-33e5-4de7-a324-2d18e439fc1e']\n",
      "['0_0e506bcb-7a0e-43c7-8444-f242ef7e587e'\n",
      " '0_0e506bcb-7a0e-43c7-8444-f242ef7e587e'\n",
      " '0_0e506bcb-7a0e-43c7-8444-f242ef7e587e'\n",
      " '0_0e506bcb-7a0e-43c7-8444-f242ef7e587e'\n",
      " '0_0e506bcb-7a0e-43c7-8444-f242ef7e587e'\n",
      " '0_0e506bcb-7a0e-43c7-8444-f242ef7e587e'\n",
      " '0_0e506bcb-7a0e-43c7-8444-f242ef7e587e'\n",
      " '0_0e506bcb-7a0e-43c7-8444-f242ef7e587e'\n",
      " '0_0e506bcb-7a0e-43c7-8444-f242ef7e587e'\n",
      " '0_0e506bcb-7a0e-43c7-8444-f242ef7e587e'\n",
      " '0_0e506bcb-7a0e-43c7-8444-f242ef7e587e'\n",
      " '0_0e506bcb-7a0e-43c7-8444-f242ef7e587e'\n",
      " '0_0e506bcb-7a0e-43c7-8444-f242ef7e587e'\n",
      " '0_0e506bcb-7a0e-43c7-8444-f242ef7e587e'\n",
      " '0_0e506bcb-7a0e-43c7-8444-f242ef7e587e'\n",
      " '0_0e506bcb-7a0e-43c7-8444-f242ef7e587e'\n",
      " '0_0e506bcb-7a0e-43c7-8444-f242ef7e587e'\n",
      " '0_0e506bcb-7a0e-43c7-8444-f242ef7e587e'\n",
      " '0_0e506bcb-7a0e-43c7-8444-f242ef7e587e'\n",
      " '0_0e506bcb-7a0e-43c7-8444-f242ef7e587e']\n"
     ]
    }
   ],
   "source": [
    "shuffle_indices = np.random.permutation(np.arange(s))\n",
    "x_rnn_s = nx1[shuffle_indices,:,:]\n",
    "\n",
    "print(nx1[0,:,0])\n",
    "print(x_rnn_s[1,:,0])"
   ]
  },
  {
   "cell_type": "code",
   "execution_count": 49,
   "metadata": {},
   "outputs": [
    {
     "name": "stdout",
     "output_type": "stream",
     "text": [
      "(10000, 11)\n"
     ]
    }
   ],
   "source": [
    "nfc = np.array(sessions)\n",
    "\n",
    "print(nfc.shape)"
   ]
  },
  {
   "cell_type": "code",
   "execution_count": 50,
   "metadata": {},
   "outputs": [],
   "source": [
    "Y_train = np.array(log_mini['y2'])\n",
    "Y_train_c = []\n",
    "for i in range(int(len(log_mini)/20)):\n",
    "    Y_train_c.append(Y_train[20*i:20*(i+1)])\n",
    "Y_train = np.array(Y_train_c)"
   ]
  },
  {
   "cell_type": "code",
   "execution_count": null,
   "metadata": {},
   "outputs": [],
   "source": []
  },
  {
   "cell_type": "code",
   "execution_count": 58,
   "metadata": {},
   "outputs": [
    {
     "name": "stdout",
     "output_type": "stream",
     "text": [
      "(10000, 20, 39) (10000, 20) (200000, 42)\n"
     ]
    }
   ],
   "source": [
    "print(X_train.shape, Y_train.shape, log_mini.shape)"
   ]
  },
  {
   "cell_type": "code",
   "execution_count": 52,
   "metadata": {},
   "outputs": [],
   "source": [
    "def weight_variable(shape, name=None):\n",
    "    return np.random.normal(scale=.01, size=shape)"
   ]
  },
  {
   "cell_type": "code",
   "execution_count": 53,
   "metadata": {},
   "outputs": [],
   "source": [
    "def selective_hinge(y_true, y_pred):\n",
    "    return K.mean(K.maximum(1. - y_true * y_pred, 0.) * K.pow(y_true,2), axis=-1)"
   ]
  },
  {
   "cell_type": "code",
   "execution_count": 54,
   "metadata": {},
   "outputs": [],
   "source": [
    "def selective_binary_accuracy(y_true, y_pred):\n",
    "    return K.mean(K.equal(y_true, K.sign(y_pred)), axis=-1)"
   ]
  },
  {
   "cell_type": "code",
   "execution_count": 59,
   "metadata": {},
   "outputs": [
    {
     "name": "stdout",
     "output_type": "stream",
     "text": [
      "_________________________________________________________________\n",
      "Layer (type)                 Output Shape              Param #   \n",
      "=================================================================\n",
      "lstm_2 (LSTM)                (None, 128)               86016     \n",
      "_________________________________________________________________\n",
      "dense_2 (Dense)              (None, 20)                2580      \n",
      "_________________________________________________________________\n",
      "activation_2 (Activation)    (None, 20)                0         \n",
      "=================================================================\n",
      "Total params: 88,596\n",
      "Trainable params: 88,596\n",
      "Non-trainable params: 0\n",
      "_________________________________________________________________\n"
     ]
    }
   ],
   "source": [
    "from keras.models import load_model\n",
    "\n",
    "model = Sequential()\n",
    "model.add(LSTM(n_hidden, input_shape=(n_time, n_in)))\n",
    "model.add(Dense(n_out, kernel_initializer=weight_variable))\n",
    "model.add(Activation('linear'))\n",
    "\n",
    "#\n",
    "#model = load_model(\"model.h5\", custom_objects={'selective_hinge': selective_hinge})\n",
    "\n",
    "model.compile(loss='hinge',\n",
    "              optimizer=Adam(lr=0.001, beta_1=0.9, beta_2=0.999),\n",
    "              metrics=[selective_binary_accuracy])\n",
    "\n",
    "model.summary()"
   ]
  },
  {
   "cell_type": "code",
   "execution_count": 60,
   "metadata": {},
   "outputs": [
    {
     "name": "stdout",
     "output_type": "stream",
     "text": [
      "Train on 10000 samples, validate on 10000 samples\n",
      "Epoch 1/10\n",
      "10000/10000 [==============================] - 10s 1ms/step - loss: 0.9619 - selective_binary_accuracy: 0.2355 - val_loss: 0.9504 - val_selective_binary_accuracy: 0.2391\n",
      "Epoch 2/10\n",
      "10000/10000 [==============================] - 11s 1ms/step - loss: 0.9503 - selective_binary_accuracy: 0.2399 - val_loss: 0.9502 - val_selective_binary_accuracy: 0.2407\n",
      "Epoch 3/10\n",
      "10000/10000 [==============================] - 10s 1ms/step - loss: 0.9487 - selective_binary_accuracy: 0.2405 - val_loss: 0.9480 - val_selective_binary_accuracy: 0.2416\n",
      "Epoch 4/10\n",
      "10000/10000 [==============================] - 12s 1ms/step - loss: 0.9475 - selective_binary_accuracy: 0.2408 - val_loss: 0.9504 - val_selective_binary_accuracy: 0.2417\n",
      "Epoch 5/10\n",
      "10000/10000 [==============================] - 9s 947us/step - loss: 0.9463 - selective_binary_accuracy: 0.2416 - val_loss: 0.9445 - val_selective_binary_accuracy: 0.2418\n",
      "Epoch 6/10\n",
      "10000/10000 [==============================] - 12s 1ms/step - loss: 0.9455 - selective_binary_accuracy: 0.2418 - val_loss: 0.9443 - val_selective_binary_accuracy: 0.2426\n",
      "Epoch 7/10\n",
      "10000/10000 [==============================] - 11s 1ms/step - loss: 0.9443 - selective_binary_accuracy: 0.2422 - val_loss: 0.9434 - val_selective_binary_accuracy: 0.2423\n",
      "Epoch 8/10\n",
      "10000/10000 [==============================] - 11s 1ms/step - loss: 0.9444 - selective_binary_accuracy: 0.2422 - val_loss: 0.9444 - val_selective_binary_accuracy: 0.2419\n",
      "Epoch 9/10\n",
      "10000/10000 [==============================] - 11s 1ms/step - loss: 0.9445 - selective_binary_accuracy: 0.2419 - val_loss: 0.9438 - val_selective_binary_accuracy: 0.2423\n",
      "Epoch 10/10\n",
      "10000/10000 [==============================] - 11s 1ms/step - loss: 0.9443 - selective_binary_accuracy: 0.2421 - val_loss: 0.9436 - val_selective_binary_accuracy: 0.2422\n"
     ]
    }
   ],
   "source": [
    "early_stopping = EarlyStopping(monitor='val_loss', patience=10, verbose=1)\n",
    "\n",
    "hist = model.fit(X_train, Y_train,\n",
    "                 batch_size=batch_size,\n",
    "                 epochs=epochs,\n",
    "                 validation_data=(X_train, Y_train),\n",
    "                 callbacks=[early_stopping])"
   ]
  },
  {
   "cell_type": "code",
   "execution_count": 70,
   "metadata": {},
   "outputs": [
    {
     "name": "stdout",
     "output_type": "stream",
     "text": [
      "dict_keys(['selective_binary_accuracy', 'val_loss', 'loss', 'val_selective_binary_accuracy'])\n",
      "selective_binary_accuracy\n",
      "val_loss\n",
      "val_loss\n",
      "loss\n",
      "loss\n",
      "val_selective_binary_accuracy\n",
      "val_selective_binary_accuracy\n",
      "selective_binary_accuracy\n",
      "['loss', 'selective_binary_accuracy']\n"
     ]
    }
   ],
   "source": [
    "keys = hist.history.keys()\n",
    "print(keys)\n",
    "list_metrics = []\n",
    "\n",
    "for key in keys:\n",
    "    print(key)\n",
    "#     if key.find('val_') > -1 and key.find('val_loss') == -1:\n",
    "    if key.find('val_') > -1:\n",
    "        print(key)\n",
    "        print(key[4:])\n",
    "        list_metrics.append(key[4:])\n",
    "    \n",
    "print(list_metrics)"
   ]
  },
  {
   "cell_type": "code",
   "execution_count": null,
   "metadata": {},
   "outputs": [],
   "source": [
    "ex = "
   ]
  },
  {
   "cell_type": "code",
   "execution_count": null,
   "metadata": {},
   "outputs": [],
   "source": []
  },
  {
   "cell_type": "code",
   "execution_count": null,
   "metadata": {},
   "outputs": [],
   "source": []
  },
  {
   "cell_type": "code",
   "execution_count": null,
   "metadata": {},
   "outputs": [],
   "source": []
  },
  {
   "cell_type": "code",
   "execution_count": null,
   "metadata": {},
   "outputs": [],
   "source": []
  },
  {
   "cell_type": "code",
   "execution_count": null,
   "metadata": {},
   "outputs": [],
   "source": []
  },
  {
   "cell_type": "code",
   "execution_count": null,
   "metadata": {},
   "outputs": [],
   "source": []
  },
  {
   "cell_type": "code",
   "execution_count": null,
   "metadata": {},
   "outputs": [],
   "source": []
  },
  {
   "cell_type": "code",
   "execution_count": null,
   "metadata": {},
   "outputs": [],
   "source": []
  },
  {
   "cell_type": "code",
   "execution_count": null,
   "metadata": {},
   "outputs": [],
   "source": []
  },
  {
   "cell_type": "code",
   "execution_count": null,
   "metadata": {},
   "outputs": [],
   "source": []
  },
  {
   "cell_type": "code",
   "execution_count": null,
   "metadata": {},
   "outputs": [],
   "source": []
  },
  {
   "cell_type": "code",
   "execution_count": null,
   "metadata": {},
   "outputs": [],
   "source": []
  },
  {
   "cell_type": "code",
   "execution_count": null,
   "metadata": {},
   "outputs": [],
   "source": []
  },
  {
   "cell_type": "code",
   "execution_count": null,
   "metadata": {},
   "outputs": [],
   "source": []
  },
  {
   "cell_type": "code",
   "execution_count": null,
   "metadata": {},
   "outputs": [],
   "source": []
  },
  {
   "cell_type": "code",
   "execution_count": null,
   "metadata": {},
   "outputs": [],
   "source": []
  },
  {
   "cell_type": "code",
   "execution_count": null,
   "metadata": {},
   "outputs": [],
   "source": []
  },
  {
   "cell_type": "code",
   "execution_count": null,
   "metadata": {},
   "outputs": [],
   "source": []
  },
  {
   "cell_type": "code",
   "execution_count": null,
   "metadata": {},
   "outputs": [],
   "source": []
  },
  {
   "cell_type": "code",
   "execution_count": null,
   "metadata": {},
   "outputs": [],
   "source": []
  },
  {
   "cell_type": "code",
   "execution_count": null,
   "metadata": {},
   "outputs": [],
   "source": []
  },
  {
   "cell_type": "code",
   "execution_count": null,
   "metadata": {},
   "outputs": [],
   "source": []
  },
  {
   "cell_type": "code",
   "execution_count": null,
   "metadata": {},
   "outputs": [],
   "source": []
  },
  {
   "cell_type": "code",
   "execution_count": null,
   "metadata": {},
   "outputs": [],
   "source": []
  },
  {
   "cell_type": "code",
   "execution_count": null,
   "metadata": {},
   "outputs": [],
   "source": []
  },
  {
   "cell_type": "code",
   "execution_count": null,
   "metadata": {},
   "outputs": [],
   "source": []
  },
  {
   "cell_type": "code",
   "execution_count": null,
   "metadata": {},
   "outputs": [],
   "source": []
  },
  {
   "cell_type": "code",
   "execution_count": null,
   "metadata": {},
   "outputs": [],
   "source": []
  },
  {
   "cell_type": "code",
   "execution_count": null,
   "metadata": {},
   "outputs": [],
   "source": []
  },
  {
   "cell_type": "code",
   "execution_count": null,
   "metadata": {},
   "outputs": [],
   "source": []
  },
  {
   "cell_type": "code",
   "execution_count": null,
   "metadata": {},
   "outputs": [],
   "source": []
  },
  {
   "cell_type": "code",
   "execution_count": null,
   "metadata": {},
   "outputs": [],
   "source": []
  },
  {
   "cell_type": "code",
   "execution_count": null,
   "metadata": {},
   "outputs": [],
   "source": []
  },
  {
   "cell_type": "code",
   "execution_count": null,
   "metadata": {},
   "outputs": [],
   "source": []
  },
  {
   "cell_type": "code",
   "execution_count": null,
   "metadata": {},
   "outputs": [],
   "source": []
  }
 ],
 "metadata": {
  "kernelspec": {
   "display_name": "Python 3",
   "language": "python",
   "name": "python3"
  },
  "language_info": {
   "codemirror_mode": {
    "name": "ipython",
    "version": 3
   },
   "file_extension": ".py",
   "mimetype": "text/x-python",
   "name": "python",
   "nbconvert_exporter": "python",
   "pygments_lexer": "ipython3",
   "version": "3.5.2"
  }
 },
 "nbformat": 4,
 "nbformat_minor": 2
}
